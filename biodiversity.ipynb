{
 "cells": [
  {
   "cell_type": "markdown",
   "metadata": {},
   "source": [
    "# Biodiversity in National Parks\n"
   ]
  },
  {
   "cell_type": "markdown",
   "metadata": {},
   "source": [
    "## Introduction\n",
    "The project goal is to analyze biodiversity of species in National Parks of United States of America. \n",
    "\n",
    "This will help to practice wrangling, tidying, visualisation and presentation of the data.\n",
    "\n",
    "Question raised for the analysis:\n",
    "+ Which animal species are mostly observed in each of parks?\n",
    "+ Which park offers highest variety of different species?\n",
    "+ What are the statuses of Conservation by categories of species?\n",
    "+ What does each of the park has to offer by category of species?"
   ]
  },
  {
   "cell_type": "markdown",
   "metadata": {},
   "source": [
    "## Load the data\n",
    "`observations.csv` and `species_info.csv` are given for this project. The data holds information about species observed over last 7 days at 4 National Parks.\n"
   ]
  },
  {
   "cell_type": "code",
   "execution_count": 22,
   "metadata": {
    "collapsed": true
   },
   "outputs": [
    {
     "name": "stdout",
     "output_type": "stream",
     "text": [
      "                     scientific_name                            park_name  \\\n",
      "0                 Vicia benghalensis  Great Smoky Mountains National Park   \n",
      "1                     Neovison vison  Great Smoky Mountains National Park   \n",
      "2                  Prunus subcordata               Yosemite National Park   \n",
      "3               Abutilon theophrasti                  Bryce National Park   \n",
      "4           Githopsis specularioides  Great Smoky Mountains National Park   \n",
      "5  Elymus virginicus var. virginicus               Yosemite National Park   \n",
      "6                   Spizella pusilla            Yellowstone National Park   \n",
      "\n",
      "   observations  \n",
      "0            68  \n",
      "1            77  \n",
      "2           138  \n",
      "3            84  \n",
      "4            85  \n",
      "5           112  \n",
      "6           228  \n",
      "  category                scientific_name  \\\n",
      "0   Mammal  Clethrionomys gapperi gapperi   \n",
      "1   Mammal                      Bos bison   \n",
      "2   Mammal                     Bos taurus   \n",
      "3   Mammal                     Ovis aries   \n",
      "4   Mammal                 Cervus elaphus   \n",
      "5   Mammal         Odocoileus virginianus   \n",
      "6   Mammal                     Sus scrofa   \n",
      "\n",
      "                                        common_names conservation_status  \n",
      "0                           Gapper's Red-Backed Vole                 NaN  \n",
      "1                              American Bison, Bison                 NaN  \n",
      "2  Aurochs, Aurochs, Domestic Cattle (Feral), Dom...                 NaN  \n",
      "3  Domestic Sheep, Mouflon, Red Sheep, Sheep (Feral)                 NaN  \n",
      "4                                      Wapiti Or Elk                 NaN  \n",
      "5                                  White-Tailed Deer                 NaN  \n",
      "6                                Feral Hog, Wild Pig                 NaN  \n"
     ]
    }
   ],
   "source": [
    "# importing all necessary modules\n",
    "# data manipulation:\n",
    "import pandas as pd\n",
    "import numpy as np\n",
    "\n",
    "# data visualization:\n",
    "import seaborn as sns\n",
    "import matplotlib.pyplot as plt\n",
    "import missingno as gno\n",
    "\n",
    "# loading the data\n",
    "observations = pd.read_csv(\"observations.csv\")\n",
    "species_info = pd.read_csv(\"species_info.csv\")\n",
    "\n",
    "print(observations.head(7))\n",
    "print(species_info.head(7))\n"
   ]
  },
  {
   "cell_type": "markdown",
   "metadata": {},
   "source": [
    "### Summary of the data\n",
    "Using different methods, familiarize with the data in each dataframe to get the better understanding how to approach it.\n",
    "\n",
    "First touch of the data gives information about dataframes' shape, features, data types, unique values of the features, count of missing values.\n",
    "\n",
    "\n",
    "`observations` df consists of 23296 rows and 3 columns (_scientific_name_ , _park_name_, _observations_).\n",
    "There are 5541 unique species, which have been observed across 4 National Parks (_Great Smoky Mountains National Park, Yosemite National Park, Bryce National Park, Yellowstone National Park_).\n",
    "Data types of each feature does not require change. There are no missing values in `observations` dataframe. Df is tidy and ready for analysis.\n",
    "\n",
    "\n",
    "`species_info` dataframes consists of 5824 rows (each row represents unique species) and 4 columns:\n",
    "+ Category - the category of animal (_Mammal, Bird, Reptile, Amphibian, Fish, Vascular Plant, Nonvascular Plant_)\n",
    "+ Scientific_name\n",
    "+ Common names\n",
    "+ Conservation status - is animal in _Species of Concern, Endangered, Threatened, In Recovery_ status.\n",
    "\n",
    "\n",
    "There's no need to change any feature dtypes.\n",
    "There are 5633 missing values, all of them in _Conservation status_ column. \n",
    "Those missing values respond that species are not in any kind of conservation.\n",
    "96.72% of species are \"Not protected\". \n",
    "1. `species_info_filled` - Missing NaN values replaced with \"Unknown\"\n",
    "2. `species_info_removed` - missing NaN values removed from df, that means a subset of less than 4% of population\n"
   ]
  },
  {
   "cell_type": "code",
   "execution_count": 37,
   "metadata": {
    "collapsed": true
   },
   "outputs": [
    {
     "name": "stdout",
     "output_type": "stream",
     "text": [
      "Observations dataframe size:\n",
      "(23296, 3)\n",
      "\n",
      "Species info dataframe size:\n",
      "(5824, 4)\n",
      "\n",
      "Observations features` dtypes:\n",
      "scientific_name    object\n",
      "park_name          object\n",
      "observations        int64\n",
      "dtype: object\n",
      "\n",
      "Species info features` dtypes:\n",
      "category               object\n",
      "scientific_name        object\n",
      "common_names           object\n",
      "conservation_status    object\n",
      "dtype: object\n",
      "\n",
      " Number of unique species in the observations dataframe: 5541\n",
      "\n",
      " Unique parks in the observations dataframe: ['Great Smoky Mountains National Park' 'Yosemite National Park'\n",
      " 'Bryce National Park' 'Yellowstone National Park']\n",
      "\n",
      "Number of NaN values in observations dataframe: scientific_name    0\n",
      "park_name          0\n",
      "observations       0\n",
      "dtype: int64\n",
      "\n",
      " Species info dataframe includes these unique categories: \n",
      "['Mammal' 'Bird' 'Reptile' 'Amphibian' 'Fish' 'Vascular Plant'\n",
      " 'Nonvascular Plant']\n",
      "\n",
      " Unique conservation statuses are : [nan 'Species of Concern' 'Endangered' 'Threatened' 'In Recovery']\n",
      "\n",
      "Number of NaN values in species dataframe: category                  0\n",
      "scientific_name           0\n",
      "common_names              0\n",
      "conservation_status    5633\n",
      "dtype: int64\n",
      "96.72% of conservation status values are missing\n",
      "   category            scientific_name       common_names conservation_status\n",
      "7    Mammal              Canis latrans             Coyote  Species of Concern\n",
      "8    Mammal                Canis lupus          Gray Wolf          Endangered\n",
      "9    Mammal                Canis rufus           Red Wolf          Endangered\n",
      "29   Mammal           Eptesicus fuscus      Big Brown Bat  Species of Concern\n",
      "30   Mammal  Lasionycteris noctivagans  Silver-Haired Bat  Species of Concern\n"
     ]
    },
    {
     "data": {
      "image/png": "[encoded data removed]",
      "text/plain": [
       "<Figure size 720x720 with 2 Axes>"
      ]
     },
     "metadata": {
      "needs_background": "light"
     },
     "output_type": "display_data"
    }
   ],
   "source": [
    "# size of each data frame\n",
    "print(\"Observations dataframe size:\")\n",
    "print(observations.shape)\n",
    "print(\"\\nSpecies info dataframe size:\")\n",
    "print(species_info.shape)\n",
    "\n",
    "# Data types of features\n",
    "print(\"\\nObservations features` dtypes:\")\n",
    "print(observations.dtypes)\n",
    "print(\"\\nSpecies info features` dtypes:\")\n",
    "print(species_info.dtypes)\n",
    "\n",
    "# Observations dataframe:\n",
    "unique_species = observations.scientific_name.nunique()\n",
    "print(\"\\n Number of unique species in the observations dataframe: \" +str(unique_species))\n",
    "unique_parks = observations.park_name.unique()\n",
    "print(\"\\n Unique parks in the observations dataframe: \" + str(unique_parks))\n",
    "\n",
    "obs_nNan = observations.isna().sum()\n",
    "print(\"\\nNumber of NaN values in observations dataframe: \" + str(obs_nNan))\n",
    "\n",
    "# Species info dataframe:\n",
    "species_categories = species_info.category.unique()\n",
    "print(\"\\n Species info dataframe includes these unique categories: \\n\" + str(species_categories))\n",
    "conservation_statuses = species_info.conservation_status.unique()\n",
    "print(\"\\n Unique conservation statuses are : \" + str(conservation_statuses))\n",
    "spc_nNan = species_info.isna().sum()\n",
    "print(\"\\nNumber of NaN values in species dataframe: \" + str(spc_nNan))\n",
    "\n",
    "# graphic of missing NaN values in species_info df\n",
    "gno.matrix(species_info, figsize = (10,10), fontsize = 15, color = (0.25, 0.25, 0.25))\n",
    "\n",
    "missing_values_ratio = (species_info.conservation_status.isna().sum() / len(species_info) * 100)\n",
    "print(str(round(missing_values_ratio,2)) + (\"% of conservation status values are missing\"))\n",
    "\n",
    "# creating subset dataframes: 1 with fill NaN with \"Unknown\", other with NaN values removed\n",
    "species_info_filled = species_info.fillna(\"Unknown\")\n",
    "species_info_removed = species_info.dropna()\n"
   ]
  },
  {
   "cell_type": "markdown",
   "metadata": {},
   "source": [
    "## Which animal species are mostly observed in each of parks?"
   ]
  },
  {
   "cell_type": "code",
   "execution_count": 70,
   "metadata": {
    "scrolled": true
   },
   "outputs": [
    {
     "name": "stdout",
     "output_type": "stream",
     "text": [
      "431820\n",
      "                           observations\n",
      "scientific_name                        \n",
      "Streptopelia decaocto               256\n",
      "Procyon lotor                       247\n",
      "Castor canadensis                   243\n",
      "Puma concolor                       239\n",
      "Fragaria virginiana                 217\n",
      "Holcus lanatus                      216\n",
      "Microtus longicaudus                212\n",
      "Apocynum androsaemifolium           210\n",
      "Polygonum aviculare                 206\n",
      "Sus scrofa                          205\n"
     ]
    }
   ],
   "source": [
    "# subset of each park\n",
    "great_smoky = observations[observations.park_name == \"Great Smoky Mountains National Park\"]\n",
    "yasomite = observations[observations.park_name == \"Yosemite National Park\"]\n",
    "bryce = observations[observations.park_name == \"Bryce National Park\"]\n",
    "yellowstone = observations[observations.park_name == \"Yellowstone National Park\"]\n",
    "\n",
    "total_observations_gs = great_smoky.observations.sum()\n",
    "print(total_observations_gs)\n",
    "most_observed_gs = great_smoky.groupby(by=[\"scientific_name\"]).sum().sort_values(by='observations', ascending=False)\n",
    "print(most_observed_gs.head(10))\n",
    "print(species_info.)"
   ]
  },
  {
   "cell_type": "code",
   "execution_count": null,
   "metadata": {},
   "outputs": [],
   "source": []
  }
 ],
 "metadata": {
  "kernelspec": {
   "display_name": "Python 3",
   "language": "python",
   "name": "python3"
  },
  "language_info": {
   "codemirror_mode": {
    "name": "ipython",
    "version": 3
   },
   "file_extension": ".py",
   "mimetype": "text/x-python",
   "name": "python",
   "nbconvert_exporter": "python",
   "pygments_lexer": "ipython3",
   "version": "3.9.0"
  }
 },
 "nbformat": 4,
 "nbformat_minor": 4
}
